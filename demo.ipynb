{
 "cells": [
  {
   "cell_type": "code",
   "execution_count": 1,
   "metadata": {},
   "outputs": [],
   "source": [
    "import tinny\n",
    "import pandas as pd\n",
    "import numpy as np\n",
    "from sklearn.model_selection import train_test_split"
   ]
  },
  {
   "cell_type": "code",
   "execution_count": 2,
   "metadata": {},
   "outputs": [],
   "source": [
    "data_train = np.array(pd.read_csv('./data/train.csv')).T\n",
    "data_test = np.array(pd.read_csv('./data/test.csv')).T\n",
    "\n",
    "m, n = data_train.shape\n",
    "\n",
    "X_train = data_train[1:n]\n",
    "y_train = data_train[0]\n",
    "\n",
    "X_train, X_test, y_train, y_test = train_test_split(X_train.T, y_train, train_size=35000, random_state=42)\n",
    "\n",
    "X_train = X_train.T / 255.0\n",
    "X_test = X_test.T / 255.0"
   ]
  },
  {
   "cell_type": "code",
   "execution_count": 3,
   "metadata": {},
   "outputs": [
    {
     "name": "stdout",
     "output_type": "stream",
     "text": [
      "[3 1 0 8 0]\n"
     ]
    }
   ],
   "source": [
    "print(y_train[:5])"
   ]
  },
  {
   "cell_type": "code",
   "execution_count": 4,
   "metadata": {},
   "outputs": [
    {
     "name": "stdout",
     "output_type": "stream",
     "text": [
      "Iteration 0\n",
      "Loss: 3.8984478468380197\n",
      "Accuracy: 0.10748571428571428\n",
      "Iteration 10\n",
      "Loss: 2.218209019357027\n",
      "Accuracy: 0.5151714285714286\n",
      "Iteration 20\n",
      "Loss: 2.2830570323889465\n",
      "Accuracy: 0.6631714285714285\n",
      "Iteration 30\n",
      "Loss: 2.108736162691834\n",
      "Accuracy: 0.6320857142857143\n",
      "Iteration 40\n",
      "Loss: 2.333233411070307\n",
      "Accuracy: 0.6860285714285714\n",
      "Iteration 50\n",
      "Loss: 2.4863133146169565\n",
      "Accuracy: 0.7464571428571428\n",
      "Iteration 60\n",
      "Loss: 2.507501035772021\n",
      "Accuracy: 0.7738571428571429\n",
      "Iteration 70\n",
      "Loss: 2.4683027435694\n",
      "Accuracy: 0.7958857142857143\n",
      "Iteration 80\n",
      "Loss: 2.428717198042332\n",
      "Accuracy: 0.8125714285714286\n",
      "Iteration 90\n",
      "Loss: 2.3745021527513006\n",
      "Accuracy: 0.8263714285714285\n",
      "Iteration 100\n",
      "Loss: 2.331781425135072\n",
      "Accuracy: 0.8369714285714286\n",
      "Iteration 110\n",
      "Loss: 2.3202795123882685\n",
      "Accuracy: 0.8451714285714286\n",
      "Iteration 120\n",
      "Loss: 2.305677575374494\n",
      "Accuracy: 0.8521714285714286\n",
      "Iteration 130\n",
      "Loss: 2.299061458690994\n",
      "Accuracy: 0.8579714285714286\n",
      "Iteration 140\n",
      "Loss: 2.285983734088105\n",
      "Accuracy: 0.8625142857142857\n",
      "Iteration 150\n",
      "Loss: 2.2690037687307396\n",
      "Accuracy: 0.8669428571428571\n",
      "Iteration 160\n",
      "Loss: 2.264288786660196\n",
      "Accuracy: 0.8703142857142857\n",
      "Iteration 170\n",
      "Loss: 2.2625753481039363\n",
      "Accuracy: 0.8728\n",
      "Iteration 180\n",
      "Loss: 2.2585838544904484\n",
      "Accuracy: 0.8746285714285714\n",
      "Iteration 190\n",
      "Loss: 2.2586069386842067\n",
      "Accuracy: 0.877\n",
      "Iteration 200\n",
      "Loss: 2.2472817249751516\n",
      "Accuracy: 0.8788285714285714\n",
      "Iteration 210\n",
      "Loss: 2.24509766003374\n",
      "Accuracy: 0.8810857142857142\n",
      "Iteration 220\n",
      "Loss: 2.239952908573998\n",
      "Accuracy: 0.8828285714285714\n",
      "Iteration 230\n",
      "Loss: 2.2336276399768527\n",
      "Accuracy: 0.8852571428571429\n",
      "Iteration 240\n",
      "Loss: 2.2304286788964607\n",
      "Accuracy: 0.8872\n",
      "Iteration 250\n",
      "Loss: 2.2285598390981374\n",
      "Accuracy: 0.8884857142857143\n",
      "Iteration 260\n",
      "Loss: 2.2273151866167042\n",
      "Accuracy: 0.8894285714285715\n",
      "Iteration 270\n",
      "Loss: 2.2234676886843716\n",
      "Accuracy: 0.8903428571428571\n",
      "Iteration 280\n",
      "Loss: 2.2205823503927244\n",
      "Accuracy: 0.8919714285714285\n",
      "Iteration 290\n",
      "Loss: 2.2180237360534867\n",
      "Accuracy: 0.8933428571428571\n",
      "Iteration 300\n",
      "Loss: 2.2212042025711187\n",
      "Accuracy: 0.8948857142857143\n",
      "Iteration 310\n",
      "Loss: 2.2147695636840266\n",
      "Accuracy: 0.8961142857142858\n",
      "Iteration 320\n",
      "Loss: 2.2097992366458707\n",
      "Accuracy: 0.8969428571428572\n",
      "Iteration 330\n",
      "Loss: 2.204881134734226\n",
      "Accuracy: 0.8977142857142857\n",
      "Iteration 340\n",
      "Loss: 2.1991840020735727\n",
      "Accuracy: 0.8984857142857143\n",
      "Loss: 2.102126306108065\n",
      "Accuracy: 0.891\n"
     ]
    }
   ],
   "source": [
    "l1 = tinny.DenseLayer(784, 10, \"ReLU\")\n",
    "l2 = tinny.OutputLayer(10, 10, \"softmax\")\n",
    "nn = tinny.TiNNyNetwork(problem_type=\"classification\", loss_function=\"crossentropy\", layers=[l1, l2])\n",
    "\n",
    "nn.train(X_train, y_train, iterations=350, learning_rate=0.01)\n",
    "nn.test(X_test, y_test)"
   ]
  },
  {
   "cell_type": "code",
   "execution_count": null,
   "metadata": {},
   "outputs": [],
   "source": []
  }
 ],
 "metadata": {
  "kernelspec": {
   "display_name": "Python 3",
   "language": "python",
   "name": "python3"
  },
  "language_info": {
   "codemirror_mode": {
    "name": "ipython",
    "version": 3
   },
   "file_extension": ".py",
   "mimetype": "text/x-python",
   "name": "python",
   "nbconvert_exporter": "python",
   "pygments_lexer": "ipython3",
   "version": "3.10.12"
  }
 },
 "nbformat": 4,
 "nbformat_minor": 2
}
