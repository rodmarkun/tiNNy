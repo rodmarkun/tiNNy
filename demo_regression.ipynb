{
 "cells": [
  {
   "cell_type": "code",
   "execution_count": 1,
   "metadata": {},
   "outputs": [],
   "source": [
    "import tinny\n",
    "import pandas as pd\n",
    "import numpy as np\n",
    "from sklearn.model_selection import train_test_split\n",
    "from sklearn.preprocessing import MinMaxScaler"
   ]
  },
  {
   "cell_type": "code",
   "execution_count": 2,
   "metadata": {},
   "outputs": [],
   "source": [
    "data_train = pd.read_csv('./data/regression/boston.csv').values\n",
    "\n",
    "m, n = data_train.shape\n",
    "\n",
    "X_train = data_train[:, :-1]  \n",
    "y_train = data_train[:, -1] \n",
    "\n",
    "X_train, X_test, y_train, y_test = train_test_split(X_train, y_train, train_size=400, random_state=42)\n",
    "\n",
    "scaler_X = MinMaxScaler()\n",
    "scaler_y = MinMaxScaler()\n",
    "\n",
    "X_train = scaler_X.fit_transform(X_train).T\n",
    "X_test = scaler_X.transform(X_test).T\n",
    "\n",
    "y_train = scaler_y.fit_transform(y_train.reshape(-1, 1)).T\n",
    "y_test = scaler_y.transform(y_test.reshape(-1, 1)).T"
   ]
  },
  {
   "cell_type": "code",
   "execution_count": 3,
   "metadata": {},
   "outputs": [
    {
     "name": "stdout",
     "output_type": "stream",
     "text": [
      "Iteration 0\n",
      "Loss: 0.08369681842023297\n",
      "Iteration 10\n",
      "Loss: 0.02398398386404196\n",
      "Iteration 20\n",
      "Loss: 0.022382310911743614\n",
      "Iteration 30\n",
      "Loss: 0.021352767606877415\n",
      "Iteration 40\n",
      "Loss: 0.020508449490130393\n",
      "Iteration 50\n",
      "Loss: 0.019797625874006998\n",
      "Iteration 60\n",
      "Loss: 0.01918286137796018\n",
      "Iteration 70\n",
      "Loss: 0.018642098709642792\n",
      "Iteration 80\n",
      "Loss: 0.018153952068904463\n",
      "Iteration 90\n",
      "Loss: 0.017707698163784858\n",
      "Iteration 100\n",
      "Loss: 0.017289611333818754\n",
      "Iteration 110\n",
      "Loss: 0.016897616061999826\n",
      "Iteration 120\n",
      "Loss: 0.016528274916211335\n",
      "Iteration 130\n",
      "Loss: 0.016180140980081612\n",
      "Iteration 140\n",
      "Loss: 0.01584832394901388\n",
      "Iteration 150\n",
      "Loss: 0.015538415660260992\n",
      "Iteration 160\n",
      "Loss: 0.015239305686208673\n",
      "Iteration 170\n",
      "Loss: 0.014946741149011494\n",
      "Iteration 180\n",
      "Loss: 0.01466683384823035\n",
      "Iteration 190\n",
      "Loss: 0.014401372453294741\n",
      "Iteration 200\n",
      "Loss: 0.01414353155153376\n",
      "Iteration 210\n",
      "Loss: 0.01389539946040822\n",
      "Iteration 220\n",
      "Loss: 0.013653949453555803\n",
      "Iteration 230\n",
      "Loss: 0.013426911516601246\n",
      "Iteration 240\n",
      "Loss: 0.013208462712576183\n",
      "Iteration 250\n",
      "Loss: 0.013009111184721358\n",
      "Iteration 260\n",
      "Loss: 0.012822171424392192\n",
      "Iteration 270\n",
      "Loss: 0.012645280436547312\n",
      "Iteration 280\n",
      "Loss: 0.012481531735063828\n",
      "Iteration 290\n",
      "Loss: 0.012324762417454987\n",
      "Iteration 300\n",
      "Loss: 0.012176667722653706\n",
      "Iteration 310\n",
      "Loss: 0.01203449858414177\n",
      "Iteration 320\n",
      "Loss: 0.011899169911069887\n",
      "Iteration 330\n",
      "Loss: 0.011773141252701916\n",
      "Iteration 340\n",
      "Loss: 0.01165371848821334\n",
      "Loss in test: 0.010379657240662789\n"
     ]
    }
   ],
   "source": [
    "l1 = tinny.DenseLayer(13, 13, \"ReLU\")\n",
    "l2 = tinny.OutputLayer(13, 1, \"ReLU\")\n",
    "nn = tinny.TiNNyNetwork(problem_type=\"regression\", loss_function=\"mse\", layers=[l1, l2])\n",
    "\n",
    "nn.train(X_train, y_train, iterations=350, learning_rate=0.01)\n",
    "nn.test(X_test, y_test)"
   ]
  }
 ],
 "metadata": {
  "kernelspec": {
   "display_name": "Python 3",
   "language": "python",
   "name": "python3"
  },
  "language_info": {
   "codemirror_mode": {
    "name": "ipython",
    "version": 3
   },
   "file_extension": ".py",
   "mimetype": "text/x-python",
   "name": "python",
   "nbconvert_exporter": "python",
   "pygments_lexer": "ipython3",
   "version": "3.10.12"
  }
 },
 "nbformat": 4,
 "nbformat_minor": 2
}
