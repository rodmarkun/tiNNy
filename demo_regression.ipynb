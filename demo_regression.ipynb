{
 "cells": [
  {
   "cell_type": "code",
   "execution_count": 1,
   "metadata": {},
   "outputs": [],
   "source": [
    "import tinny\n",
    "import pandas as pd\n",
    "import numpy as np\n",
    "from sklearn.model_selection import train_test_split\n",
    "from sklearn.preprocessing import MinMaxScaler"
   ]
  },
  {
   "cell_type": "code",
   "execution_count": 2,
   "metadata": {},
   "outputs": [],
   "source": [
    "data_train = pd.read_csv('./data/regression/boston.csv').values\n",
    "\n",
    "m, n = data_train.shape\n",
    "\n",
    "X_train = data_train[:, :-1]  \n",
    "y_train = data_train[:, -1] \n",
    "\n",
    "X_train, X_test, y_train, y_test = train_test_split(X_train, y_train, train_size=400, random_state=42)\n",
    "\n",
    "scaler_X = MinMaxScaler()\n",
    "scaler_y = MinMaxScaler()\n",
    "\n",
    "X_train = scaler_X.fit_transform(X_train).T\n",
    "X_test = scaler_X.transform(X_test).T\n",
    "\n",
    "y_train = scaler_y.fit_transform(y_train.reshape(-1, 1)).T\n",
    "y_test = scaler_y.transform(y_test.reshape(-1, 1)).T"
   ]
  },
  {
   "cell_type": "code",
   "execution_count": 3,
   "metadata": {},
   "outputs": [
    {
     "name": "stdout",
     "output_type": "stream",
     "text": [
      "(13, 400)\n"
     ]
    }
   ],
   "source": [
    "print(X_train.shape)"
   ]
  },
  {
   "cell_type": "code",
   "execution_count": 4,
   "metadata": {},
   "outputs": [
    {
     "name": "stdout",
     "output_type": "stream",
     "text": [
      "Iteration 0\n",
      "Loss: 0.10551003026725123\n",
      "Iteration 10\n",
      "Loss: 0.03625210715846574\n",
      "Iteration 20\n",
      "Loss: 0.027137828040502847\n",
      "Iteration 30\n",
      "Loss: 0.022511838825034804\n",
      "Iteration 40\n",
      "Loss: 0.019643328546362856\n",
      "Iteration 50\n",
      "Loss: 0.017780613505173178\n",
      "Iteration 60\n",
      "Loss: 0.016486252160051833\n",
      "Iteration 70\n",
      "Loss: 0.015523790048288489\n",
      "Iteration 80\n",
      "Loss: 0.014780457211163708\n",
      "Iteration 90\n",
      "Loss: 0.014202050364980134\n",
      "Iteration 100\n",
      "Loss: 0.013724138687716452\n",
      "Iteration 110\n",
      "Loss: 0.01331988860186779\n",
      "Iteration 120\n",
      "Loss: 0.012985853899769851\n",
      "Iteration 130\n",
      "Loss: 0.012699193982572141\n",
      "Iteration 140\n",
      "Loss: 0.012453517460608942\n",
      "Iteration 150\n",
      "Loss: 0.012240684326163497\n",
      "Iteration 160\n",
      "Loss: 0.012056322149794267\n",
      "Iteration 170\n",
      "Loss: 0.011896172772257097\n",
      "Iteration 180\n",
      "Loss: 0.011744569141976167\n",
      "Iteration 190\n",
      "Loss: 0.011568604885954466\n",
      "Iteration 200\n",
      "Loss: 0.01140874444012193\n",
      "Iteration 210\n",
      "Loss: 0.011244977030774476\n",
      "Iteration 220\n",
      "Loss: 0.011105154069760098\n",
      "Iteration 230\n",
      "Loss: 0.010996247352215906\n",
      "Iteration 240\n",
      "Loss: 0.010898682729990155\n",
      "Iteration 250\n",
      "Loss: 0.010811468717319533\n",
      "Iteration 260\n",
      "Loss: 0.01073387325623087\n",
      "Iteration 270\n",
      "Loss: 0.010660784524319702\n",
      "Iteration 280\n",
      "Loss: 0.01059423810718365\n",
      "Iteration 290\n",
      "Loss: 0.010528866175509539\n",
      "Iteration 300\n",
      "Loss: 0.01046350759530466\n",
      "Iteration 310\n",
      "Loss: 0.010402944906355557\n",
      "Iteration 320\n",
      "Loss: 0.010342429750722875\n",
      "Iteration 330\n",
      "Loss: 0.01028891770489284\n",
      "Iteration 340\n",
      "Loss: 0.010244625029806158\n",
      "Loss: 0.010639897318327898\n"
     ]
    }
   ],
   "source": [
    "l1 = tinny.DenseLayer(13, 13, \"ReLU\")\n",
    "l2 = tinny.OutputLayer(13, 1, \"ReLU\")\n",
    "nn = tinny.TiNNyNetwork(problem_type=\"regression\", loss_function=\"mse\", layers=[l1, l2])\n",
    "\n",
    "nn.train(X_train, y_train, iterations=350, learning_rate=0.01)\n",
    "nn.test(X_test, y_test)"
   ]
  },
  {
   "cell_type": "code",
   "execution_count": null,
   "metadata": {},
   "outputs": [],
   "source": []
  }
 ],
 "metadata": {
  "kernelspec": {
   "display_name": "Python 3",
   "language": "python",
   "name": "python3"
  },
  "language_info": {
   "codemirror_mode": {
    "name": "ipython",
    "version": 3
   },
   "file_extension": ".py",
   "mimetype": "text/x-python",
   "name": "python",
   "nbconvert_exporter": "python",
   "pygments_lexer": "ipython3",
   "version": "3.10.12"
  }
 },
 "nbformat": 4,
 "nbformat_minor": 2
}
